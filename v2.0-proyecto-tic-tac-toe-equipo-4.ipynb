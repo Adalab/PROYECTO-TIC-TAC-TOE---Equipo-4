{
 "cells": [
  {
   "cell_type": "markdown",
   "metadata": {},
   "source": [
    "PROYECTO TIC TAC TOE"
   ]
  },
  {
   "cell_type": "code",
   "execution_count": 58,
   "metadata": {},
   "outputs": [],
   "source": [
    "# Función para enseñar el tablero en las instrucciones:\n",
    "def mostrar_tablero_instrucciones():\n",
    "    print('Filas:     Columnas:')\n",
    "    print('          1     2     3')\n",
    "    print('        -----+-----+-----')\n",
    "    print('   1    |  ' + '  |  ' + ' ' + '  |  ' + ' ' + ' |')\n",
    "    print('        -----+-----+-----')\n",
    "    print('   2    |  ' + '  |  ' + ' ' + '  |  ' + ' ' + ' |')\n",
    "    print('        -----+-----+-----')\n",
    "    print('   3    |  ' + '  |  ' + ' ' + '  |  ' + ' ' + ' |')\n",
    "    print('        -----+-----+-----')"
   ]
  },
  {
   "cell_type": "code",
   "execution_count": 59,
   "metadata": {},
   "outputs": [],
   "source": [
    "# Función para mostrar las instrucciones del juego:\n",
    "def instrucciones():\n",
    "    print('BIENVENIDO AL JUEGO TIC TAC TOE')\n",
    "    print('Más conocido por \"Las 3 en raya\"')\n",
    "    print()\n",
    "    print('Funcionamiento del juego:')\n",
    "    print('Se juega en un tablero de 3x3')\n",
    "    print('(tres filas y tres columnas)')\n",
    "    print('El objetivo del juego es ser el primero en conseguir \"las 3 en raya\".')\n",
    "    print('\"Las 3 en raya\" se obtienen haciendo una línea de tres fichas iguales.')\n",
    "    print('La línea puede ser horizontal, vertical o diagonal.')\n",
    "    print('Las fichas pueden ser X ó O, porque sólo existen dos jugadores.')\n",
    "    print('El turno de los jugadores es alterno, cada vez le toca a uno diferente.')\n",
    "    print('En tu turno, tienes que elegir una fila (1, 2 ó 3)')\n",
    "    print('y elegir una columna (1, 2 ó 3)')\n",
    "    print()\n",
    "    print('Normas básicas:')\n",
    "    print('Sólo puedes colocar tu ficha en una posición que esté vacía')\n",
    "    print('Sólo puedes introducir un número del 1 al 3 para elegir la posición de tú ficha')\n",
    "    print('Si introduces cualquier otro caracter o número diferente, el juego dará error')\n",
    "    print()\n",
    "    print('Fin del juego:')\n",
    "    print('Se acaba el juego porque uno de los jugadores haya conseguido las 3 en raya')\n",
    "    print('Tenemos un GANADOR')\n",
    "    print('También se puede acabar el juego por que ninguno de los jugadores haya conseguido ganar')\n",
    "    print('y hemos obtenido un empate')\n",
    "    print()\n",
    "    print('A continuación os enseñamos el tablero para comenzar el juego')\n",
    "    print(mostrar_tablero_instrucciones())\n"
   ]
  },
  {
   "cell_type": "code",
   "execution_count": 60,
   "metadata": {},
   "outputs": [],
   "source": [
    "# Función para crear el tablero:\n",
    "def crear_tablero():\n",
    "    tablero = []\n",
    "    for i in range(3):\n",
    "        fila = []\n",
    "        for j in range(3):\n",
    "            fila.append(' ')\n",
    "        tablero.append(fila)\n",
    "    return tablero"
   ]
  },
  {
   "cell_type": "markdown",
   "metadata": {},
   "source": []
  },
  {
   "cell_type": "code",
   "execution_count": 61,
   "metadata": {},
   "outputs": [],
   "source": [
    "# Función para enseñar el tablero:\n",
    "def ver_tablero(tablero):\n",
    "    print('          1     2     3')\n",
    "    print('        -----+-----+-----')\n",
    "    print('   1    | ' + tablero[0][0] + '  |  ' + tablero[0][1] + ' ' + '  |  ' + tablero[0][2] + ' ' + ' |')\n",
    "    print('        -----+-----+-----')\n",
    "    print('   2    | ' + tablero[1][0] + '  |  ' + tablero[1][1] + ' ' + '  |  ' + tablero[1][2] + ' ' + ' |')\n",
    "    print('        -----+-----+-----')\n",
    "    print('   3    | ' + tablero[2][0] + '  |  ' + tablero[2][1] + ' ' + '  |  ' + tablero[2][2] + ' ' + ' |')\n",
    "    print('        -----+-----+-----')"
   ]
  },
  {
   "cell_type": "code",
   "execution_count": 62,
   "metadata": {},
   "outputs": [],
   "source": [
    "# Función de asignación de ficha:\n",
    "def ficha_jugador(jugador):\n",
    "    if (jugador % 2 == 0):\n",
    "        ficha = 'X'\n",
    "    else:\n",
    "        ficha = 'O'\n",
    "    return ficha"
   ]
  },
  {
   "cell_type": "code",
   "execution_count": 67,
   "metadata": {},
   "outputs": [],
   "source": [
    "# Función de turno:\n",
    "def turnos(ficha, tablero):\n",
    "    while True:\n",
    "        try:\n",
    "            fila = int(input(f'Jugador {ficha} elije una fila')) -1\n",
    "            columna = int(input('Ahora elije una columna')) -1\n",
    "            #if (fila == 1,2,3) and (columna == 1,2,3):\n",
    "            if (fila in [0,1,2]) and (columna in [0,1,2]):\n",
    "                if tablero[fila][columna] == ' ':\n",
    "                    tablero[fila][columna] = ficha\n",
    "                    return False\n",
    "                else:\n",
    "                    print('La posición seleccionada está ocupada.')\n",
    "                    print('Vuelve a introducir una posición')\n",
    "                    return True\n",
    "            else:\n",
    "                print('No has introducido un número correcto')\n",
    "                print('Vuelve a introducir una posición')\n",
    "                return True\n",
    "        except ValueError:\n",
    "            print('No has introducido un valor correcto')\n",
    "            print('Vuelve a introducir una posición')\n",
    "            return True"
   ]
  },
  {
   "cell_type": "code",
   "execution_count": 64,
   "metadata": {},
   "outputs": [],
   "source": [
    "# Función para comprobar la jugada, si hay ganador o empate o hay que seguir jugando:\n",
    "def comprobar_jugada(jugador, tablero):\n",
    "    # 3 en raya en horizontal:\n",
    "    for fila in range(3):\n",
    "        if (tablero[fila][0] == tablero[fila][1] == tablero[fila][2] != ' '):\n",
    "            print('¡HAS GANADO!')\n",
    "            return False\n",
    "    # 3 en raya en vertical:\n",
    "    for columna in range(3):\n",
    "        if (tablero[0][columna] == tablero[1][columna] == tablero[2][columna] != ' '):\n",
    "            print('¡HAS GANADO!')\n",
    "            return False   \n",
    "    # 3 en raya en diagonal:\n",
    "    if (tablero[0][0] == tablero[1][1] == tablero[2][2] != ' '):\n",
    "        print('¡HAS GANADO!')\n",
    "        return False\n",
    "    elif (tablero[0][2] == tablero[1][1] == tablero[2][0] != ' '):\n",
    "        print('¡HAS GANADO!')\n",
    "        return False\n",
    "    # empate\n",
    "    elif (jugador == 10):\n",
    "        print('¡HABÉIS EMPATADO!')\n",
    "        print('Se acabó el juego')\n",
    "        return False\n",
    "    else:\n",
    "        print('No has ganado, continúa el juego. Es el turno del otro jugador')\n",
    "        return True"
   ]
  },
  {
   "cell_type": "code",
   "execution_count": 65,
   "metadata": {},
   "outputs": [],
   "source": [
    "# Función para jugar:\n",
    "def jugar():\n",
    "    jugador = 2\n",
    "    tablero = crear_tablero()\n",
    "    continuar = True\n",
    "    while continuar:\n",
    "        ficha = ficha_jugador(jugador)\n",
    "        turnos(ficha, tablero)\n",
    "        ver_tablero(tablero)\n",
    "        continuar = comprobar_jugada(jugador,tablero)\n",
    "        jugador += 1\n",
    "    \n",
    "        "
   ]
  },
  {
   "cell_type": "markdown",
   "metadata": {},
   "source": []
  },
  {
   "cell_type": "code",
   "execution_count": 68,
   "metadata": {},
   "outputs": [
    {
     "name": "stdout",
     "output_type": "stream",
     "text": [
      "          1     2     3\n",
      "        -----+-----+-----\n",
      "   1    | X  |      |     |\n",
      "        -----+-----+-----\n",
      "   2    |    |      |     |\n",
      "        -----+-----+-----\n",
      "   3    |    |      |     |\n",
      "        -----+-----+-----\n",
      "No has ganado, continúa el juego. Es el turno del otro jugador\n",
      "No has introducido un valor correcto\n",
      "Vuelve a introducir una posición\n"
     ]
    },
    {
     "ename": "KeyboardInterrupt",
     "evalue": "Interrupted by user",
     "output_type": "error",
     "traceback": [
      "\u001b[0;31m---------------------------------------------------------------------------\u001b[0m",
      "\u001b[0;31mKeyboardInterrupt\u001b[0m                         Traceback (most recent call last)",
      "Cell \u001b[0;32mIn[68], line 1\u001b[0m\n\u001b[0;32m----> 1\u001b[0m jugar()\n",
      "Cell \u001b[0;32mIn[65], line 8\u001b[0m, in \u001b[0;36mjugar\u001b[0;34m()\u001b[0m\n\u001b[1;32m      6\u001b[0m \u001b[38;5;28;01mwhile\u001b[39;00m continuar:\n\u001b[1;32m      7\u001b[0m     ficha \u001b[38;5;241m=\u001b[39m ficha_jugador(jugador)\n\u001b[0;32m----> 8\u001b[0m     turnos(ficha, tablero)\n\u001b[1;32m      9\u001b[0m     ver_tablero(tablero)\n\u001b[1;32m     10\u001b[0m     continuar \u001b[38;5;241m=\u001b[39m comprobar_jugada(jugador,tablero)\n",
      "Cell \u001b[0;32mIn[67], line 6\u001b[0m, in \u001b[0;36mturnos\u001b[0;34m(ficha, tablero)\u001b[0m\n\u001b[1;32m      4\u001b[0m \u001b[38;5;28;01mwhile\u001b[39;00m seguir:\n\u001b[1;32m      5\u001b[0m     \u001b[38;5;28;01mtry\u001b[39;00m:\n\u001b[0;32m----> 6\u001b[0m         fila \u001b[38;5;241m=\u001b[39m \u001b[38;5;28mint\u001b[39m(\u001b[38;5;28minput\u001b[39m(\u001b[38;5;124mf\u001b[39m\u001b[38;5;124m'\u001b[39m\u001b[38;5;124mJugador \u001b[39m\u001b[38;5;132;01m{\u001b[39;00mficha\u001b[38;5;132;01m}\u001b[39;00m\u001b[38;5;124m elije una fila\u001b[39m\u001b[38;5;124m'\u001b[39m)) \u001b[38;5;241m-\u001b[39m\u001b[38;5;241m1\u001b[39m\n\u001b[1;32m      7\u001b[0m         columna \u001b[38;5;241m=\u001b[39m \u001b[38;5;28mint\u001b[39m(\u001b[38;5;28minput\u001b[39m(\u001b[38;5;124m'\u001b[39m\u001b[38;5;124mAhora elije una columna\u001b[39m\u001b[38;5;124m'\u001b[39m)) \u001b[38;5;241m-\u001b[39m\u001b[38;5;241m1\u001b[39m\n\u001b[1;32m      8\u001b[0m         \u001b[38;5;66;03m#if (fila == 1,2,3) and (columna == 1,2,3):\u001b[39;00m\n",
      "File \u001b[0;32m/opt/anaconda3/lib/python3.12/site-packages/ipykernel/kernelbase.py:1262\u001b[0m, in \u001b[0;36mKernel.raw_input\u001b[0;34m(self, prompt)\u001b[0m\n\u001b[1;32m   1260\u001b[0m     msg \u001b[38;5;241m=\u001b[39m \u001b[38;5;124m\"\u001b[39m\u001b[38;5;124mraw_input was called, but this frontend does not support input requests.\u001b[39m\u001b[38;5;124m\"\u001b[39m\n\u001b[1;32m   1261\u001b[0m     \u001b[38;5;28;01mraise\u001b[39;00m StdinNotImplementedError(msg)\n\u001b[0;32m-> 1262\u001b[0m \u001b[38;5;28;01mreturn\u001b[39;00m \u001b[38;5;28mself\u001b[39m\u001b[38;5;241m.\u001b[39m_input_request(\n\u001b[1;32m   1263\u001b[0m     \u001b[38;5;28mstr\u001b[39m(prompt),\n\u001b[1;32m   1264\u001b[0m     \u001b[38;5;28mself\u001b[39m\u001b[38;5;241m.\u001b[39m_parent_ident[\u001b[38;5;124m\"\u001b[39m\u001b[38;5;124mshell\u001b[39m\u001b[38;5;124m\"\u001b[39m],\n\u001b[1;32m   1265\u001b[0m     \u001b[38;5;28mself\u001b[39m\u001b[38;5;241m.\u001b[39mget_parent(\u001b[38;5;124m\"\u001b[39m\u001b[38;5;124mshell\u001b[39m\u001b[38;5;124m\"\u001b[39m),\n\u001b[1;32m   1266\u001b[0m     password\u001b[38;5;241m=\u001b[39m\u001b[38;5;28;01mFalse\u001b[39;00m,\n\u001b[1;32m   1267\u001b[0m )\n",
      "File \u001b[0;32m/opt/anaconda3/lib/python3.12/site-packages/ipykernel/kernelbase.py:1305\u001b[0m, in \u001b[0;36mKernel._input_request\u001b[0;34m(self, prompt, ident, parent, password)\u001b[0m\n\u001b[1;32m   1302\u001b[0m \u001b[38;5;28;01mexcept\u001b[39;00m \u001b[38;5;167;01mKeyboardInterrupt\u001b[39;00m:\n\u001b[1;32m   1303\u001b[0m     \u001b[38;5;66;03m# re-raise KeyboardInterrupt, to truncate traceback\u001b[39;00m\n\u001b[1;32m   1304\u001b[0m     msg \u001b[38;5;241m=\u001b[39m \u001b[38;5;124m\"\u001b[39m\u001b[38;5;124mInterrupted by user\u001b[39m\u001b[38;5;124m\"\u001b[39m\n\u001b[0;32m-> 1305\u001b[0m     \u001b[38;5;28;01mraise\u001b[39;00m \u001b[38;5;167;01mKeyboardInterrupt\u001b[39;00m(msg) \u001b[38;5;28;01mfrom\u001b[39;00m \u001b[38;5;28;01mNone\u001b[39;00m\n\u001b[1;32m   1306\u001b[0m \u001b[38;5;28;01mexcept\u001b[39;00m \u001b[38;5;167;01mException\u001b[39;00m:\n\u001b[1;32m   1307\u001b[0m     \u001b[38;5;28mself\u001b[39m\u001b[38;5;241m.\u001b[39mlog\u001b[38;5;241m.\u001b[39mwarning(\u001b[38;5;124m\"\u001b[39m\u001b[38;5;124mInvalid Message:\u001b[39m\u001b[38;5;124m\"\u001b[39m, exc_info\u001b[38;5;241m=\u001b[39m\u001b[38;5;28;01mTrue\u001b[39;00m)\n",
      "\u001b[0;31mKeyboardInterrupt\u001b[0m: Interrupted by user"
     ]
    }
   ],
   "source": [
    "jugar()"
   ]
  }
 ],
 "metadata": {
  "kernelspec": {
   "display_name": "base",
   "language": "python",
   "name": "python3"
  },
  "language_info": {
   "codemirror_mode": {
    "name": "ipython",
    "version": 3
   },
   "file_extension": ".py",
   "mimetype": "text/x-python",
   "name": "python",
   "nbconvert_exporter": "python",
   "pygments_lexer": "ipython3",
   "version": "3.12.4"
  }
 },
 "nbformat": 4,
 "nbformat_minor": 2
}
