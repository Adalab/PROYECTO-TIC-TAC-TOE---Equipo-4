{
 "cells": [
  {
   "cell_type": "markdown",
   "metadata": {},
   "source": [
    "PROYECTO TIC TAC TOE"
   ]
  },
  {
   "cell_type": "code",
   "execution_count": 239,
   "metadata": {},
   "outputs": [],
   "source": [
    "# Función para enseñar el tablero en las instrucciones:\n",
    "def mostrar_tablero_instrucciones():\n",
    "    print('Filas:     Columnas:')\n",
    "    print('          1     2     3')\n",
    "    print('        -----+-----+-----')\n",
    "    print('   1    |  ' + '  |  ' + ' ' + '  |  ' + ' ' + ' |')\n",
    "    print('        -----+-----+-----')\n",
    "    print('   2    |  ' + '  |  ' + ' ' + '  |  ' + ' ' + ' |')\n",
    "    print('        -----+-----+-----')\n",
    "    print('   3    |  ' + '  |  ' + ' ' + '  |  ' + ' ' + ' |')\n",
    "    print('        -----+-----+-----')"
   ]
  },
  {
   "cell_type": "code",
   "execution_count": 240,
   "metadata": {},
   "outputs": [],
   "source": [
    "# Función para mostrar las instrucciones del juego:\n",
    "def instrucciones():\n",
    "    print('BIENVENIDO AL JUEGO TIC TAC TOE')\n",
    "    print('Más conocido por \"Las 3 en raya\"')\n",
    "    print()\n",
    "    print('Funcionamiento del juego:')\n",
    "    print('Se juega en un tablero de 3x3')\n",
    "    print('(tres filas y tres columnas)')\n",
    "    print('El objetivo del juego es ser el primero en conseguir \"las 3 en raya\".')\n",
    "    print('\"Las 3 en raya\" se obtienen haciendo una línea de tres fichas iguales.')\n",
    "    print('La línea puede ser horizontal, vertical o diagonal.')\n",
    "    print('Las fichas pueden ser X ó O, porque sólo existen dos jugadores.')\n",
    "    print('El turno de los jugadores es alterno, cada vez le toca a uno diferente.')\n",
    "    print('En tu turno, tienes que elegir una fila (1, 2 ó 3)')\n",
    "    print('y elegir una columna (1, 2 ó 3)')\n",
    "    print()\n",
    "    print('Normas básicas:')\n",
    "    print('Sólo puedes colocar tu ficha en una posición que esté vacía')\n",
    "    print('Sólo puedes introducir un número del 1 al 3 para elegir la posición de tú ficha')\n",
    "    print('Si introduces cualquier otro caracter o número diferente, el juego dará error')\n",
    "    print()\n",
    "    print('Fin del juego:')\n",
    "    print('Se acaba el juego porque uno de los jugadores haya conseguido las 3 en raya')\n",
    "    print('Tenemos un GANADOR')\n",
    "    print('También se puede acabar el juego por que ninguno de los jugadores haya conseguido ganar')\n",
    "    print('y hemos obtenido un empate')\n",
    "    print()\n",
    "    print('A continuación os enseñamos el tablero para comenzar el juego')\n",
    "    print(mostrar_tablero_instrucciones())\n"
   ]
  },
  {
   "cell_type": "code",
   "execution_count": 241,
   "metadata": {},
   "outputs": [],
   "source": [
    "# Función para crear el tablero:\n",
    "def crear_tablero():\n",
    "    tablero = []\n",
    "    for i in range(3):\n",
    "        fila = []\n",
    "        for j in range(3):\n",
    "            fila.append(' ')\n",
    "        tablero.append(fila)\n",
    "    return tablero"
   ]
  },
  {
   "cell_type": "markdown",
   "metadata": {},
   "source": [
    "# Función para enseñar el tablero:\n",
    "tablero = crear_tablero(tablero)\n",
    "def ver_tablero(fila, columna, tablero):\n",
    "    tablero[fila][columna] = ficha\n",
    "    print('          1     2     3')\n",
    "    print('        -----+-----+-----')\n",
    "    print('   1    | ' + tablero[fila][columna] + '  | ' + tablero[fila][columna] + ' ' + '  | ' + tablero[fila][columna] + ' ' + ' |')\n",
    "    print('        -----+-----+-----')\n",
    "    print('   2    | ' + tablero[fila][columna] + '  | ' + tablero[fila][columna] + ' ' + '  | ' + tablero[fila][columna] + ' ' + ' |')\n",
    "    print('        -----+-----+-----')\n",
    "    print('   3    | ' + tablero[fila][columna] + '  | ' + tablero[fila][columna] + ' ' + '  | ' + tablero[fila][columna] + ' ' + ' |')\n",
    "    print('        -----+-----+-----')"
   ]
  },
  {
   "cell_type": "markdown",
   "metadata": {},
   "source": [
    "# Función para enseñar el tablero:\n",
    "tablero = crear_tablero(tablero)\n",
    "def ver_tablero(fila, columna, tablero):\n",
    "    tablero[fila][columna] = ficha\n",
    "    print('          1     2     3')\n",
    "    print('        -----+-----+-----')\n",
    "    print('   1    | ' + tablero[fila][columna] + '  | ' + tablero[fila][columna] + ' ' + '  | ' + tablero[fila][columna] + ' ' + ' |')\n",
    "    print('        -----+-----+-----')\n",
    "    print('   2    | ' + tablero[fila][columna] + '  | ' + tablero[fila][columna] + ' ' + '  | ' + tablero[fila][columna] + ' ' + ' |')\n",
    "    print('        -----+-----+-----')\n",
    "    print('   3    | ' + tablero[fila][columna] + '  | ' + tablero[fila][columna] + ' ' + '  | ' + tablero[fila][columna] + ' ' + ' |')\n",
    "    print('        -----+-----+-----')"
   ]
  },
  {
   "cell_type": "markdown",
   "metadata": {},
   "source": []
  },
  {
   "cell_type": "code",
   "execution_count": 242,
   "metadata": {},
   "outputs": [],
   "source": [
    "# Función para enseñar el tablero:\n",
    "def ver_tablero(turno, ficha, tablero):\n",
    "    print(turno, 'Imprime turno antes de asignarle la ficha')\n",
    "    turno = ficha\n",
    "    print(turno, 'imprime ahora turno porque lo hemos igualado a la ficha')\n",
    "    \n",
    "    print('          1     2     3')\n",
    "    print('        -----+-----+-----')\n",
    "    print('   1    | ' + tablero[0][0] + '  | ' + tablero[0][1] + ' ' + '  | ' + tablero[0][2] + ' ' + ' |')\n",
    "    print('        -----+-----+-----')\n",
    "    print('   2    | ' + tablero[1][0] + '  | ' + tablero[1][1] + ' ' + '  | ' + tablero[1][2] + ' ' + ' |')\n",
    "    print('        -----+-----+-----')\n",
    "    print('   3    | ' + tablero[2][0] + '  | ' + tablero[2][1] + ' ' + '  | ' + tablero[2][2] + ' ' + ' |')\n",
    "    print('        -----+-----+-----')"
   ]
  },
  {
   "cell_type": "code",
   "execution_count": 243,
   "metadata": {},
   "outputs": [],
   "source": [
    "# Función de asignación de ficha:\n",
    "def ficha_jugador(jugador):\n",
    "    if (jugador % 2 == 0):\n",
    "        ficha = 'X'\n",
    "    else:\n",
    "        ficha = 'O'\n",
    "    return ficha"
   ]
  },
  {
   "cell_type": "code",
   "execution_count": 244,
   "metadata": {},
   "outputs": [],
   "source": [
    "# Función de turno:\n",
    "def turnos(jugador):\n",
    "    jugador += 1\n",
    "    while True:\n",
    "        try:\n",
    "            fila = int(input(f'Jugador {jugador} elije una fila')) -1\n",
    "            columna = int(input('Ahora elije una columna')) -1\n",
    "            if (fila == 1,2,3) and (columna == 1,2,3):\n",
    "                if tablero[fila][columna] == ' ':\n",
    "                    turno = tablero[fila][columna]\n",
    "                    print('La posición seleccionada es correcta')\n",
    "                    break\n",
    "                else:\n",
    "                    print('La posición seleccionada está ocupada.')\n",
    "                    print('Vuelve a introducir una posición')\n",
    "                    return True\n",
    "            else:\n",
    "                print('No has introducido un número correcto')\n",
    "                print('Vuelve a introducir una posición')\n",
    "                return True\n",
    "        except ValueError:\n",
    "            print('No has introducido un valor correcto')\n",
    "            print('Vuelve a introducir una posición')\n",
    "            return True\n",
    "    return turno"
   ]
  },
  {
   "cell_type": "code",
   "execution_count": 245,
   "metadata": {},
   "outputs": [],
   "source": [
    "# Función para comprobar la jugada, si hay ganador o empate o hay que seguir jugando:\n",
    "# .count() es una herramienta para contar la cantidad de veces que un elemento aparece en una secuencia.\n",
    "def comprobar_jugada(tablero):\n",
    "    # 3 en raya en horizontal:\n",
    "    for fila in tablero:\n",
    "        if (fila.count(fila[0]) == 3) and (fila[0] != ' '):\n",
    "            print('¡HAS GANADO!')\n",
    "            return False\n",
    "        else:\n",
    "            return True\n",
    "    # 3 en raya en vertical:\n",
    "    for columna in range(3):\n",
    "        if (tablero[0][columna] == tablero[1][columna] == tablero[2][columna] != ' '):\n",
    "            print('¡HAS GANADO!')\n",
    "            return False\n",
    "        else:\n",
    "            return True\n",
    "    # 3 en raya en diagonal:\n",
    "    if (tablero[0][0] == tablero[1][1] == tablero[2][2] != ' '):\n",
    "        print('¡HAS GANADO!')\n",
    "        return False\n",
    "    elif (tablero[0][2] == tablero[1][1] == tablero[2][0] != ' '):\n",
    "        print('¡HAS GANADO!')\n",
    "        return False\n",
    "    # empate\n",
    "    elif (' ' not in tablero):\n",
    "        print('¡HABÉIS EMPATADO!')\n",
    "        print('Se acabó el juego')\n",
    "        return False\n",
    "    else:\n",
    "        return True, print('No has ganado, continúa el juego. Es el turno del otro jugador')"
   ]
  },
  {
   "cell_type": "code",
   "execution_count": 246,
   "metadata": {},
   "outputs": [],
   "source": [
    "# Función para jugar:\n",
    "def jugar():\n",
    "    jugador = 0\n",
    "    tablero = crear_tablero(tablero)\n",
    "    while True:\n",
    "        turnos(jugador)\n",
    "        ficha_jugador(jugador)\n",
    "        ver_tablero(turno, tablero)\n",
    "        comprobar_jugada(tablero)\n",
    "        "
   ]
  },
  {
   "cell_type": "markdown",
   "metadata": {},
   "source": []
  },
  {
   "cell_type": "markdown",
   "metadata": {},
   "source": [
    "# Función para enseñar el tablero en las instrucciones:\n",
    "def mostrar_tablero_instrucciones():\n",
    "\n",
    "# Función para mostrar las instrucciones del juego:\n",
    "def instrucciones():\n",
    "\n",
    "# Función para crear el tablero:\n",
    "def crear_tablero(tablero):\n",
    "\n",
    "# Función para enseñar el tablero:\n",
    "def ver_tablero(fila, columna, tablero):\n",
    "\n",
    "# Función de asignación de ficha:\n",
    "def ficha_jugador(jugador):\n",
    "\n",
    "# Función de turno:\n",
    "def turnos(jugador):\n",
    "\n",
    "# Función para comprobar si hay ganador:\n",
    "def comprobar_jugada(tablero):\n",
    "\n",
    "# Función para jugar:\n",
    "def jugar():"
   ]
  },
  {
   "cell_type": "code",
   "execution_count": 247,
   "metadata": {},
   "outputs": [
    {
     "name": "stdout",
     "output_type": "stream",
     "text": [
      "BIENVENIDO AL JUEGO TIC TAC TOE\n",
      "Más conocido por \"Las 3 en raya\"\n",
      "\n",
      "Funcionamiento del juego:\n",
      "Se juega en un tablero de 3x3\n",
      "(tres filas y tres columnas)\n",
      "El objetivo del juego es ser el primero en conseguir \"las 3 en raya\".\n",
      "\"Las 3 en raya\" se obtienen haciendo una línea de tres fichas iguales.\n",
      "La línea puede ser horizontal, vertical o diagonal.\n",
      "Las fichas pueden ser X ó O, porque sólo existen dos jugadores.\n",
      "El turno de los jugadores es alterno, cada vez le toca a uno diferente.\n",
      "En tu turno, tienes que elegir una fila (1, 2 ó 3)\n",
      "y elegir una columna (1, 2 ó 3)\n",
      "\n",
      "Normas básicas:\n",
      "Sólo puedes colocar tu ficha en una posición que esté vacía\n",
      "Sólo puedes introducir un número del 1 al 3 para elegir la posición de tú ficha\n",
      "Si introduces cualquier otro caracter o número diferente, el juego dará error\n",
      "\n",
      "Fin del juego:\n",
      "Se acaba el juego porque uno de los jugadores haya conseguido las 3 en raya\n",
      "Tenemos un GANADOR\n",
      "También se puede acabar el juego por que ninguno de los jugadores haya conseguido ganar\n",
      "y hemos obtenido un empate\n",
      "\n",
      "A continuación os enseñamos el tablero para comenzar el juego\n",
      "Filas:     Columnas:\n",
      "          1     2     3\n",
      "        -----+-----+-----\n",
      "   1    |    |     |    |\n",
      "        -----+-----+-----\n",
      "   2    |    |     |    |\n",
      "        -----+-----+-----\n",
      "   3    |    |     |    |\n",
      "        -----+-----+-----\n",
      "None\n"
     ]
    }
   ],
   "source": [
    "instrucciones()\n"
   ]
  },
  {
   "cell_type": "code",
   "execution_count": 248,
   "metadata": {},
   "outputs": [
    {
     "name": "stdout",
     "output_type": "stream",
     "text": [
      "La posición seleccionada es correcta\n"
     ]
    },
    {
     "ename": "NameError",
     "evalue": "name 'turno' is not defined",
     "output_type": "error",
     "traceback": [
      "\u001b[0;31m---------------------------------------------------------------------------\u001b[0m",
      "\u001b[0;31mNameError\u001b[0m                                 Traceback (most recent call last)",
      "Cell \u001b[0;32mIn[248], line 1\u001b[0m\n\u001b[0;32m----> 1\u001b[0m jugar()\n",
      "Cell \u001b[0;32mIn[246], line 7\u001b[0m, in \u001b[0;36mjugar\u001b[0;34m()\u001b[0m\n\u001b[1;32m      5\u001b[0m turnos(jugador)\n\u001b[1;32m      6\u001b[0m ficha_jugador(jugador)\n\u001b[0;32m----> 7\u001b[0m ver_tablero(turno, tablero)\n\u001b[1;32m      8\u001b[0m comprobar_jugada(tablero)\n",
      "\u001b[0;31mNameError\u001b[0m: name 'turno' is not defined"
     ]
    }
   ],
   "source": [
    "jugar()"
   ]
  }
 ],
 "metadata": {
  "kernelspec": {
   "display_name": "base",
   "language": "python",
   "name": "python3"
  },
  "language_info": {
   "codemirror_mode": {
    "name": "ipython",
    "version": 3
   },
   "file_extension": ".py",
   "mimetype": "text/x-python",
   "name": "python",
   "nbconvert_exporter": "python",
   "pygments_lexer": "ipython3",
   "version": "3.12.4"
  }
 },
 "nbformat": 4,
 "nbformat_minor": 2
}
