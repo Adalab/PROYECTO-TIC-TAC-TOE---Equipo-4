{
 "cells": [
  {
   "cell_type": "markdown",
   "metadata": {},
   "source": [
    "PROYECTO TIC TAC TOE"
   ]
  },
  {
   "cell_type": "code",
   "execution_count": 33,
   "metadata": {},
   "outputs": [],
   "source": [
    "# Describir las instrucciones:"
   ]
  },
  {
   "cell_type": "code",
   "execution_count": 34,
   "metadata": {},
   "outputs": [
    {
     "name": "stdout",
     "output_type": "stream",
     "text": [
      "Objetivo del juego:\n",
      "El objetivo del juego es ser el primero en conseguir una línea de tres símbolos (X u O) en un tablero de 3x3.\n",
      "La línea puede ser horizontal, vertical o diagonal.\n",
      "Cómo jugar:\n",
      "El juego admite dos jugadores (uno usa el símbolo \"X\", y el otro \"O\".\n",
      "El tablero es una cuadrícula de 3x3 con 9 posiciones, donde cada jugador colocará su símbolo (X u O) en su turno.\n",
      "Uno de los jugadores comienza primero (puede decidirse al azar o por acuerdo).\n",
      "El jugador elige una casilla numerada del tablero para colocar su símbolo.\n",
      "Los jugadores deben alternarse por turnos para colocar su símbolo en el tablero.\n",
      "Solo se puede colocar un símbolo en una casilla vacía.\n",
      "El primer jugador que consiga colocar tres de sus símbolos gana el juego.\n"
     ]
    }
   ],
   "source": [
    "print('Objetivo del juego:')\n",
    "print('El objetivo del juego es ser el primero en conseguir una línea de tres símbolos (X u O) en un tablero de 3x3.')\n",
    "print('La línea puede ser horizontal, vertical o diagonal.')\n",
    "print('Cómo jugar:')\n",
    "print('El juego admite dos jugadores (uno usa el símbolo \"X\", y el otro \"O\".')\n",
    "print('El tablero es una cuadrícula de 3x3 con 9 posiciones, donde cada jugador colocará su símbolo (X u O) en su turno.')\n",
    "print('Uno de los jugadores comienza primero (puede decidirse al azar o por acuerdo).')\n",
    "print('El jugador elige una casilla numerada del tablero para colocar su símbolo.')\n",
    "print('Los jugadores deben alternarse por turnos para colocar su símbolo en el tablero.')\n",
    "print('Solo se puede colocar un símbolo en una casilla vacía.')\n",
    "print('El primer jugador que consiga colocar tres de sus símbolos gana el juego.')"
   ]
  },
  {
   "cell_type": "code",
   "execution_count": 35,
   "metadata": {},
   "outputs": [
    {
     "data": {
      "text/plain": [
       "'# Jugadores:\\ndef entrada_jugadores():\\n    jugador_1 = input(\\'Selecciona entre \"X\" y \"O\"\\').upper()\\n    while jugador_1 != (\\'X\\' or\\'O\\'):\\n        print(\\'Símbolo érroneo. Elige extre \"X\" y \"O\", por favor\\')\\n        break\\n    jugador_2 = \\'O\\' if jugador_1 == \\'X\\' else \\'X\\'\\n    return jugador_1, jugador_2'"
      ]
     },
     "execution_count": 35,
     "metadata": {},
     "output_type": "execute_result"
    }
   ],
   "source": [
    "'''# Jugadores:\n",
    "def entrada_jugadores():\n",
    "    jugador_1 = input('Selecciona entre \"X\" y \"O\"').upper()\n",
    "    while jugador_1 != ('X' or'O'):\n",
    "        print('Símbolo érroneo. Elige extre \"X\" y \"O\", por favor')\n",
    "        break\n",
    "    jugador_2 = 'O' if jugador_1 == 'X' else 'X'\n",
    "    return jugador_1, jugador_2'''"
   ]
  },
  {
   "cell_type": "code",
   "execution_count": 36,
   "metadata": {},
   "outputs": [
    {
     "data": {
      "text/plain": [
       "'# Jugadores:\\njugador_1 = input(\\'Selecciona entre \"X\" y \"O\"\\').upper()\\nwhile jugador_1 != (\\'X\\' or\\'O\\'):\\n    print(\\'Símbolo érroneo. Elige extre \"X\" y \"O\", por favor\\')\\n    break\\njugador_2 = \\'O\\' if jugador_1 == \\'X\\' else \\'X\\'\\n'"
      ]
     },
     "execution_count": 36,
     "metadata": {},
     "output_type": "execute_result"
    }
   ],
   "source": [
    "'''# Jugadores:\n",
    "jugador_1 = input('Selecciona entre \"X\" y \"O\"').upper()\n",
    "while jugador_1 != ('X' or'O'):\n",
    "    print('Símbolo érroneo. Elige extre \"X\" y \"O\", por favor')\n",
    "    break\n",
    "jugador_2 = 'O' if jugador_1 == 'X' else 'X'\n",
    "'''"
   ]
  },
  {
   "cell_type": "markdown",
   "metadata": {},
   "source": [
    "# Creación del tablero:\n",
    "tablero_3x3 = []\n",
    "for i in range(3):\n",
    "    fila = []\n",
    "    for j in range(3):\n",
    "        fila.append(' ')\n",
    "    tablero_3x3.append(fila)"
   ]
  },
  {
   "cell_type": "markdown",
   "metadata": {},
   "source": [
    "# Dibujar tablero:\n",
    "def crear_tablero():\n",
    "    for fila in tablero_3x3:\n",
    "        print('______')\n",
    "        for elemento in fila:\n",
    "            print(elemento, end='|')\n",
    "        print()\n",
    "    return"
   ]
  },
  {
   "cell_type": "markdown",
   "metadata": {},
   "source": [
    "crear_tablero()"
   ]
  },
  {
   "cell_type": "code",
   "execution_count": 37,
   "metadata": {},
   "outputs": [
    {
     "data": {
      "text/plain": [
       "'[0,0][0,1][0,2]\\n   [1,0][1,1][1,2]\\n   [2,0][2,1][2,2]\\n\\nFilas: (0, 1, 2), (3, 4, 5), (6, 7, 8)\\nColumnas: (0, 3, 6), (1, 4, 7), (2, 5, 8)\\nDiagonal: (0, 4, 8), (2, 4, 6)'"
      ]
     },
     "execution_count": 37,
     "metadata": {},
     "output_type": "execute_result"
    }
   ],
   "source": [
    "'''[0,0][0,1][0,2]\n",
    "   [1,0][1,1][1,2]\n",
    "   [2,0][2,1][2,2]\n",
    "\n",
    "Filas: (0, 1, 2), (3, 4, 5), (6, 7, 8)\n",
    "Columnas: (0, 3, 6), (1, 4, 7), (2, 5, 8)\n",
    "Diagonal: (0, 4, 8), (2, 4, 6)'''"
   ]
  },
  {
   "cell_type": "code",
   "execution_count": 38,
   "metadata": {},
   "outputs": [],
   "source": [
    "jugador_1 = 'X'\n",
    "jugador_2 = 'O'"
   ]
  },
  {
   "cell_type": "code",
   "execution_count": 39,
   "metadata": {},
   "outputs": [],
   "source": [
    "# Crear un tablero de 3x3 vacío\n",
    "tablero = [' ' for _ in range(9)]\n",
    "def mostrar_tablero(tablero):\n",
    "    print(tablero[0] + ' | ' + tablero[1] + ' | ' + tablero[2])\n",
    "    print('--+---+--')\n",
    "    print(tablero[3] + ' | ' + tablero[4] + ' | ' + tablero[5])\n",
    "    print('--+---+--')\n",
    "    print(tablero[6] + ' | ' + tablero[7] + ' | ' + tablero[8])\n"
   ]
  },
  {
   "cell_type": "code",
   "execution_count": 40,
   "metadata": {},
   "outputs": [
    {
     "name": "stdout",
     "output_type": "stream",
     "text": [
      "  |   |  \n",
      "--+---+--\n",
      "  |   |  \n",
      "--+---+--\n",
      "  |   |  \n"
     ]
    }
   ],
   "source": [
    "mostrar_tablero(tablero)"
   ]
  },
  {
   "cell_type": "code",
   "execution_count": 41,
   "metadata": {},
   "outputs": [
    {
     "data": {
      "text/plain": [
       "\"# Crear la función jugar:\\ndef jugar():\\n    # mostramos el tablero:\\n    tablero = crear_tablero()\\n    # primer turno:\\n    fila = int(input('Indica la fila'))\\n    columna = int(input('Indica la columna'))\\n    tablero_3x3.append([fila],[columna])\\n\\n\\n\\n    return tablero\""
      ]
     },
     "execution_count": 41,
     "metadata": {},
     "output_type": "execute_result"
    }
   ],
   "source": [
    "'''# Crear la función jugar:\n",
    "def jugar():\n",
    "    # mostramos el tablero:\n",
    "    tablero = crear_tablero()\n",
    "    # primer turno:\n",
    "    fila = int(input('Indica la fila'))\n",
    "    columna = int(input('Indica la columna'))\n",
    "    tablero_3x3.append([fila],[columna])\n",
    "\n",
    "\n",
    "\n",
    "    return tablero'''"
   ]
  },
  {
   "cell_type": "code",
   "execution_count": 42,
   "metadata": {},
   "outputs": [
    {
     "data": {
      "text/plain": [
       "'Filas: (0, 1, 2), (3, 4, 5), (6, 7, 8)\\nColumnas: (0, 3, 6), (1, 4, 7), (2, 5, 8)\\nDiagonal: (0, 4, 8), (2, 4, 6)'"
      ]
     },
     "execution_count": 42,
     "metadata": {},
     "output_type": "execute_result"
    }
   ],
   "source": [
    "'''Filas: (0, 1, 2), (3, 4, 5), (6, 7, 8)\n",
    "Columnas: (0, 3, 6), (1, 4, 7), (2, 5, 8)\n",
    "Diagonal: (0, 4, 8), (2, 4, 6)'''"
   ]
  },
  {
   "cell_type": "code",
   "execution_count": 43,
   "metadata": {},
   "outputs": [
    {
     "data": {
      "text/plain": [
       "\"# Crear función para comprobar ganador:\\ndef comprobar_jugada(turno, tablero):\\n   \\n    if (tablero[turno]!=' '):\\n\\n        pass\\n        if [(tablero[0]==tablero[1]==tablero[2]=='X') or \\n            (tablero[3]==tablero[4]==tablero[5]) or\\n            (tablero[6]==tablero[7]==tablero[8]) or\\n            (tablero[0]==tablero[3]==tablero[6]) or\\n            (tablero[1]==tablero[4]==tablero[7]) or\\n            (tablero[2]==tablero[5]==tablero[8]) or\\n            (tablero[0]==tablero[4]==tablero[8]) or\\n            (tablero[2]==tablero[4]==tablero[6])]:\\n            print('¡HAS GANADO!')\""
      ]
     },
     "execution_count": 43,
     "metadata": {},
     "output_type": "execute_result"
    }
   ],
   "source": [
    "'''# Crear función para comprobar ganador:\n",
    "def comprobar_jugada(turno, tablero):\n",
    "   \n",
    "    if (tablero[turno]!=' '):\n",
    "\n",
    "        pass\n",
    "        if [(tablero[0]==tablero[1]==tablero[2]=='X') or \n",
    "            (tablero[3]==tablero[4]==tablero[5]) or\n",
    "            (tablero[6]==tablero[7]==tablero[8]) or\n",
    "            (tablero[0]==tablero[3]==tablero[6]) or\n",
    "            (tablero[1]==tablero[4]==tablero[7]) or\n",
    "            (tablero[2]==tablero[5]==tablero[8]) or\n",
    "            (tablero[0]==tablero[4]==tablero[8]) or\n",
    "            (tablero[2]==tablero[4]==tablero[6])]:\n",
    "            print('¡HAS GANADO!')'''\n",
    "    "
   ]
  },
  {
   "cell_type": "code",
   "execution_count": 44,
   "metadata": {},
   "outputs": [
    {
     "data": {
      "text/plain": [
       "\"def comprobar_jugada():\\n    if (tablero[0]==tablero[1]==tablero[2]=='X') or (tablero[0]==tablero[1]==tablero[2]=='O'):\\n        print('¡HAS GANADO!')\\n    if (tablero[3]==tablero[4]==tablero[5]=='X') or (tablero[3]==tablero[4]==tablero[5]=='O'):\\n        print('¡HAS GANADO!')\\n    if (tablero[6]==tablero[7]==tablero[8]=='X') or (tablero[6]==tablero[7]==tablero[8]=='O'):\\n        print('¡HAS GANADO!')\\n    if (tablero[0]==tablero[3]==tablero[6]=='X') or (tablero[0]==tablero[3]==tablero[6]=='O'):\\n        print('¡HAS GANADO!')\\n    if (tablero[1]==tablero[4]==tablero[7]=='X') or (tablero[1]==tablero[4]==tablero[7]=='O'):\\n        print('¡HAS GANADO!')\\n    if (tablero[2]==tablero[5]==tablero[8]=='X') or (tablero[2]==tablero[5]==tablero[8]=='O'):\\n        print('¡HAS GANADO!')\\n    if (tablero[0]==tablero[4]==tablero[8]=='X') or (tablero[0]==tablero[4]==tablero[8]=='O'):\\n        print('¡HAS GANADO!')\\n    if (tablero[2]==tablero[4]==tablero[6]=='X') or (tablero[2]==tablero[4]==tablero[6]=='O'):\\n        print('¡HAS GANADO!')\\n    else:\\n        seguir = False\\n        print('Continua el juego')\\n    return \""
      ]
     },
     "execution_count": 44,
     "metadata": {},
     "output_type": "execute_result"
    }
   ],
   "source": [
    "\n",
    "'''def comprobar_jugada():\n",
    "    if (tablero[0]==tablero[1]==tablero[2]=='X') or (tablero[0]==tablero[1]==tablero[2]=='O'):\n",
    "        print('¡HAS GANADO!')\n",
    "    if (tablero[3]==tablero[4]==tablero[5]=='X') or (tablero[3]==tablero[4]==tablero[5]=='O'):\n",
    "        print('¡HAS GANADO!')\n",
    "    if (tablero[6]==tablero[7]==tablero[8]=='X') or (tablero[6]==tablero[7]==tablero[8]=='O'):\n",
    "        print('¡HAS GANADO!')\n",
    "    if (tablero[0]==tablero[3]==tablero[6]=='X') or (tablero[0]==tablero[3]==tablero[6]=='O'):\n",
    "        print('¡HAS GANADO!')\n",
    "    if (tablero[1]==tablero[4]==tablero[7]=='X') or (tablero[1]==tablero[4]==tablero[7]=='O'):\n",
    "        print('¡HAS GANADO!')\n",
    "    if (tablero[2]==tablero[5]==tablero[8]=='X') or (tablero[2]==tablero[5]==tablero[8]=='O'):\n",
    "        print('¡HAS GANADO!')\n",
    "    if (tablero[0]==tablero[4]==tablero[8]=='X') or (tablero[0]==tablero[4]==tablero[8]=='O'):\n",
    "        print('¡HAS GANADO!')\n",
    "    if (tablero[2]==tablero[4]==tablero[6]=='X') or (tablero[2]==tablero[4]==tablero[6]=='O'):\n",
    "        print('¡HAS GANADO!')\n",
    "    else:\n",
    "        seguir = False\n",
    "        print('Continua el juego')\n",
    "    return '''"
   ]
  },
  {
   "cell_type": "code",
   "execution_count": 45,
   "metadata": {},
   "outputs": [
    {
     "data": {
      "text/plain": [
       "\"def probar():\\n    if [((tablero[0]==tablero[1]==tablero[2]=='X') or (tablero[0]==tablero[1]==tablero[2]=='O')) or\\n       ((tablero[3]==tablero[4]==tablero[5]=='X') or (tablero[3]==tablero[4]==tablero[5]=='O')) or\\n       ((tablero[6]==tablero[7]==tablero[8]=='X') or (tablero[6]==tablero[7]==tablero[8]=='O')) or\\n       ((tablero[0]==tablero[3]==tablero[6]=='X') or (tablero[0]==tablero[3]==tablero[6]=='O')) or\\n       ((tablero[1]==tablero[4]==tablero[7]=='X') or (tablero[1]==tablero[4]==tablero[7]=='O')) or\\n       ((tablero[2]==tablero[5]==tablero[8]=='X') or (tablero[2]==tablero[5]==tablero[8]=='O')) or\\n       ((tablero[0]==tablero[4]==tablero[8]=='X') or (tablero[0]==tablero[4]==tablero[8]=='O')) or\\n       ((tablero[2]==tablero[4]==tablero[6]=='X') or (tablero[2]==tablero[4]==tablero[6]=='O'))]:\\n        print('¡HAS GANADO!')\""
      ]
     },
     "execution_count": 45,
     "metadata": {},
     "output_type": "execute_result"
    }
   ],
   "source": [
    "'''def probar():\n",
    "    if [((tablero[0]==tablero[1]==tablero[2]=='X') or (tablero[0]==tablero[1]==tablero[2]=='O')) or\n",
    "       ((tablero[3]==tablero[4]==tablero[5]=='X') or (tablero[3]==tablero[4]==tablero[5]=='O')) or\n",
    "       ((tablero[6]==tablero[7]==tablero[8]=='X') or (tablero[6]==tablero[7]==tablero[8]=='O')) or\n",
    "       ((tablero[0]==tablero[3]==tablero[6]=='X') or (tablero[0]==tablero[3]==tablero[6]=='O')) or\n",
    "       ((tablero[1]==tablero[4]==tablero[7]=='X') or (tablero[1]==tablero[4]==tablero[7]=='O')) or\n",
    "       ((tablero[2]==tablero[5]==tablero[8]=='X') or (tablero[2]==tablero[5]==tablero[8]=='O')) or\n",
    "       ((tablero[0]==tablero[4]==tablero[8]=='X') or (tablero[0]==tablero[4]==tablero[8]=='O')) or\n",
    "       ((tablero[2]==tablero[4]==tablero[6]=='X') or (tablero[2]==tablero[4]==tablero[6]=='O'))]:\n",
    "        print('¡HAS GANADO!')'''"
   ]
  },
  {
   "cell_type": "code",
   "execution_count": 46,
   "metadata": {},
   "outputs": [],
   "source": [
    "def verificar_empate(tablero):\n",
    "    return ' ' not in tablero"
   ]
  },
  {
   "cell_type": "code",
   "execution_count": 47,
   "metadata": {},
   "outputs": [
    {
     "name": "stdout",
     "output_type": "stream",
     "text": [
      "  |   |  \n",
      "--+---+--\n",
      "  |   |  \n",
      "--+---+--\n",
      "  |   |  \n"
     ]
    }
   ],
   "source": [
    "#mostrar tablero:\n",
    "mostrar_tablero(tablero)\n",
    "jugador = 0\n",
    "# Crear función jugar:\n",
    "def jugar():\n",
    "    \n",
    "    # turno:\n",
    "    while True:\n",
    "        while True:    \n",
    "            try:\n",
    "                turno_1 = int(input('Jugardor 1 (X) selecciona posición')) - 1\n",
    "                break\n",
    "            except ValueError:\n",
    "                print('Debe introducir una posición correcta ')    \n",
    "        if tablero[turno_1] == ' ':\n",
    "            tablero[turno_1] = 'X'\n",
    "            mostrar_tablero(tablero)\n",
    "            if (tablero[0]==tablero[1]==tablero[2]=='X'):\n",
    "                print('¡HAS GANADO JUGADOR 1 (X)!')\n",
    "                break\n",
    "            if (tablero[3]==tablero[4]==tablero[5]=='X'):\n",
    "                print('¡HAS GANADO JUGADOR 1 (X)!')\n",
    "                break\n",
    "            if (tablero[6]==tablero[7]==tablero[8]=='X'):\n",
    "                print('¡HAS GANADO JUGADOR 1 (X)!')\n",
    "                break\n",
    "            if (tablero[0]==tablero[3]==tablero[6]=='X'):\n",
    "                print('¡HAS GANADO JUGADOR 1 (X)!')\n",
    "                break\n",
    "            if (tablero[1]==tablero[4]==tablero[7]=='X'):\n",
    "                print('¡HAS GANADO JUGADOR 1 (X)!')\n",
    "                break\n",
    "            if (tablero[2]==tablero[5]==tablero[8]=='X'):\n",
    "                print('¡HAS GANADO JUGADOR 1 (X)!')\n",
    "                break\n",
    "            if (tablero[0]==tablero[4]==tablero[8]=='X'):\n",
    "                print('¡HAS GANADO JUGADOR 1 (X)!')\n",
    "                break\n",
    "            if (tablero[2]==tablero[4]==tablero[6]=='X'):\n",
    "                print('¡HAS GANADO JUGADOR 1 (X)!')\n",
    "                break\n",
    "            if verificar_empate(tablero):\n",
    "                print(\"¡Es un empate!\")\n",
    "                break\n",
    "            else:\n",
    "                print('Continua el juego, le toca al siguiente jugador')\n",
    "        \n",
    "\n",
    "\n",
    "        try:\n",
    "            while True:\n",
    "                turno_2 = int(input('Jugardor 2 (O) selecciona posición')) - 1\n",
    "                if tablero[turno_2] == ' ':\n",
    "                    tablero[turno_2] = 'O'\n",
    "                    mostrar_tablero(tablero)\n",
    "                    if (tablero[0]==tablero[1]==tablero[2]=='O'):\n",
    "                        print('¡HAS GANADO JUGADOR 2 (O)!')\n",
    "                        break\n",
    "                    if (tablero[3]==tablero[4]==tablero[5]=='O'):\n",
    "                        print('¡HAS GANADO JUGADOR 2 (O)!')\n",
    "                        break\n",
    "                    if (tablero[6]==tablero[7]==tablero[8]=='O'):\n",
    "                        print('¡HAS GANADO JUGADOR 2 (O)!')\n",
    "                        break\n",
    "                    if (tablero[0]==tablero[3]==tablero[6]=='O'):\n",
    "                        print('¡HAS GANADO JUGADOR 2 (O)!')\n",
    "                        break\n",
    "                    if (tablero[1]==tablero[4]==tablero[7]=='O'):\n",
    "                        print('¡HAS GANADO JUGADOR 2 (O)!')\n",
    "                        break\n",
    "                    if (tablero[2]==tablero[5]==tablero[8]=='O'):\n",
    "                        print('¡HAS GANADO JUGADOR 2 (O)!')\n",
    "                        break\n",
    "                    if (tablero[0]==tablero[4]==tablero[8]=='O'):\n",
    "                        print('¡HAS GANADO JUGADOR 2 (O)!')\n",
    "                        break\n",
    "                    if (tablero[2]==tablero[4]==tablero[6]=='O'):\n",
    "                        print('¡HAS GANADO JUGADOR 2 (O)!')\n",
    "                        break\n",
    "                    if verificar_empate(tablero):\n",
    "                        print(\"¡Es un empate!\")\n",
    "                        break\n",
    "                    else:\n",
    "                        print('Continua el juego, le toca al siguiente jugador')\n",
    "                        break\n",
    "                else:\n",
    "                    print('La posición seleccionada ya está ocupada, vuelve a introducir una posición')\n",
    "\n",
    "        except ValueError:\n",
    "            print('Debe introducir una posición correcta')\n",
    "            turno_2 = int(input('Jugardor 2 (O) selecciona posición')) - 1"
   ]
  },
  {
   "cell_type": "code",
   "execution_count": 48,
   "metadata": {},
   "outputs": [
    {
     "name": "stdout",
     "output_type": "stream",
     "text": [
      "Debe introducir una posición correcta \n",
      "Debe introducir una posición correcta \n",
      "Debe introducir una posición correcta \n",
      "X |   |  \n",
      "--+---+--\n",
      "  |   |  \n",
      "--+---+--\n",
      "  |   |  \n",
      "Continua el juego, le toca al siguiente jugador\n",
      "X | O |  \n",
      "--+---+--\n",
      "  |   |  \n",
      "--+---+--\n",
      "  |   |  \n",
      "Continua el juego, le toca al siguiente jugador\n",
      "La posición seleccionada ya está ocupada, vuelve a introducir una posición\n",
      "X | O | O\n",
      "--+---+--\n",
      "  |   |  \n",
      "--+---+--\n",
      "  |   |  \n",
      "Continua el juego, le toca al siguiente jugador\n"
     ]
    }
   ],
   "source": [
    "jugar()"
   ]
  }
 ],
 "metadata": {
  "kernelspec": {
   "display_name": "base",
   "language": "python",
   "name": "python3"
  },
  "language_info": {
   "codemirror_mode": {
    "name": "ipython",
    "version": 3
   },
   "file_extension": ".py",
   "mimetype": "text/x-python",
   "name": "python",
   "nbconvert_exporter": "python",
   "pygments_lexer": "ipython3",
   "version": "3.12.4"
  }
 },
 "nbformat": 4,
 "nbformat_minor": 2
}
