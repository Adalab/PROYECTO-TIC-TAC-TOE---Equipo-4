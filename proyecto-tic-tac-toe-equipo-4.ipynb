{
 "cells": [
  {
   "cell_type": "markdown",
   "metadata": {},
   "source": [
    "PROYECTO TIC TAC TOE"
   ]
  },
  {
   "cell_type": "code",
   "execution_count": null,
   "metadata": {},
   "outputs": [],
   "source": [
    "# Describir las instrucciones:"
   ]
  },
  {
   "cell_type": "code",
   "execution_count": 25,
   "metadata": {},
   "outputs": [
    {
     "name": "stdout",
     "output_type": "stream",
     "text": [
      "Objetivo del juego:\n",
      "El objetivo del juego es ser el primero en conseguir una línea de tres símbolos (X u O) en un tablero de 3x3.\n",
      "La línea puede ser horizontal, vertical o diagonal.\n",
      "Cómo jugar:\n",
      "El juego admite dos jugadores (uno usa el símbolo \"X\", y el otro \"O\".\n",
      "El tablero es una cuadrícula de 3x3 con 9 posiciones, donde cada jugador colocará su símbolo (X u O) en su turno.\n",
      "Uno de los jugadores comienza primero (puede decidirse al azar o por acuerdo).\n",
      "El jugador elige una casilla numerada del tablero para colocar su símbolo.\n",
      "Los jugadores deben alternarse por turnos para colocar su símbolo en el tablero.\n",
      "Solo se puede colocar un símbolo en una casilla vacía.\n",
      "El primer jugador que consiga colocar tres de sus símbolos gana el juego.\n"
     ]
    }
   ],
   "source": [
    "print('Objetivo del juego:')\n",
    "print('El objetivo del juego es ser el primero en conseguir una línea de tres símbolos (X u O) en un tablero de 3x3.')\n",
    "print('La línea puede ser horizontal, vertical o diagonal.')\n",
    "print('Cómo jugar:')\n",
    "print('El juego admite dos jugadores (uno usa el símbolo \"X\", y el otro \"O\".')\n",
    "print('El tablero es una cuadrícula de 3x3 con 9 posiciones, donde cada jugador colocará su símbolo (X u O) en su turno.')\n",
    "print('Uno de los jugadores comienza primero (puede decidirse al azar o por acuerdo).')\n",
    "print('El jugador elige una casilla numerada del tablero para colocar su símbolo.')\n",
    "print('Los jugadores deben alternarse por turnos para colocar su símbolo en el tablero.')\n",
    "print('Solo se puede colocar un símbolo en una casilla vacía.')\n",
    "print('El primer jugador que consiga colocar tres de sus símbolos gana el juego.')"
   ]
  },
  {
   "cell_type": "code",
   "execution_count": 16,
   "metadata": {},
   "outputs": [],
   "source": [
    "# Jugadores:\n",
    "def entrada_jugadores():\n",
    "    jugador_1 = input('Selecciona entre \"X\" y \"O\"').upper()\n",
    "    while jugador_1 != ('X' or'O'):\n",
    "        print('Símbolo érroneo. Elige extre \"X\" y \"O\", por favor')\n",
    "        break\n",
    "    jugador_2 = 'O' if jugador_1 == 'X' else 'X'\n",
    "    return jugador_1, jugador_2"
   ]
  },
  {
   "cell_type": "code",
   "execution_count": 19,
   "metadata": {},
   "outputs": [],
   "source": [
    "# Jugadores:\n",
    "jugador_1 = input('Selecciona entre \"X\" y \"O\"').upper()\n",
    "while jugador_1 != ('X' or'O'):\n",
    "    print('Símbolo érroneo. Elige extre \"X\" y \"O\", por favor')\n",
    "    break\n",
    "jugador_2 = 'O' if jugador_1 == 'X' else 'X'"
   ]
  },
  {
   "cell_type": "markdown",
   "metadata": {},
   "source": [
    "# Creación del tablero:\n",
    "tablero_3x3 = []\n",
    "for i in range(3):\n",
    "    fila = []\n",
    "    for j in range(3):\n",
    "        fila.append(' ')\n",
    "    tablero_3x3.append(fila)"
   ]
  },
  {
   "cell_type": "markdown",
   "metadata": {},
   "source": [
    "# Dibujar tablero:\n",
    "def crear_tablero():\n",
    "    for fila in tablero_3x3:\n",
    "        print('______')\n",
    "        for elemento in fila:\n",
    "            print(elemento, end='|')\n",
    "        print()\n",
    "    return"
   ]
  },
  {
   "cell_type": "markdown",
   "metadata": {},
   "source": [
    "crear_tablero()"
   ]
  },
  {
   "cell_type": "code",
   "execution_count": null,
   "metadata": {},
   "outputs": [],
   "source": [
    "'''[0,0][0,1][0,2]\n",
    "   [1,0][1,1][1,2]\n",
    "   [2,0][2,1][2,2]\n",
    "\n",
    "Filas: (0, 1, 2), (3, 4, 5), (6, 7, 8)\n",
    "Columnas: (0, 3, 6), (1, 4, 7), (2, 5, 8)\n",
    "Diagonal: (0, 4, 8), (2, 4, 6)'''"
   ]
  },
  {
   "cell_type": "code",
   "execution_count": 3,
   "metadata": {},
   "outputs": [],
   "source": [
    "# Crear un tablero de 3x3 vacío\n",
    "tablero = [' ' for _ in range(9)]\n",
    "def mostrar_tablero(tablero):\n",
    "    print(tablero[0] + ' | ' + tablero[1] + ' | ' + tablero[2])\n",
    "    print('--+---+--')\n",
    "    print(tablero[3] + ' | ' + tablero[4] + ' | ' + tablero[5])\n",
    "    print('--+---+--')\n",
    "    print(tablero[6] + ' | ' + tablero[7] + ' | ' + tablero[8])\n"
   ]
  },
  {
   "cell_type": "code",
   "execution_count": 6,
   "metadata": {},
   "outputs": [
    {
     "name": "stdout",
     "output_type": "stream",
     "text": [
      "x | x |  \n",
      "--+---+--\n",
      "  | x |  \n",
      "--+---+--\n",
      "  |   | o\n"
     ]
    }
   ],
   "source": [
    "mostrar_tablero(tablero)"
   ]
  },
  {
   "cell_type": "code",
   "execution_count": 5,
   "metadata": {},
   "outputs": [],
   "source": [
    "tablero [0]= 'x'\n",
    "tablero [1]= 'x'\n",
    "tablero [4]= 'x'\n",
    "tablero [8]= 'o'"
   ]
  },
  {
   "cell_type": "code",
   "execution_count": 33,
   "metadata": {},
   "outputs": [],
   "source": [
    "# Crear la función jugar:\n",
    "def jugar():\n",
    "    # mostramos el tablero:\n",
    "    tablero = crear_tablero()\n",
    "    # primer turno:\n",
    "    fila = int(input('Indica la fila'))\n",
    "    columna = int(input('Indica la columna'))\n",
    "    tablero_3x3.append([fila],[columna])\n",
    "\n",
    "\n",
    "\n",
    "    return tablero"
   ]
  },
  {
   "cell_type": "code",
   "execution_count": 34,
   "metadata": {},
   "outputs": [
    {
     "name": "stdout",
     "output_type": "stream",
     "text": [
      "______\n",
      " | | |\n",
      "______\n",
      " | | |\n",
      "______\n",
      " | | |\n"
     ]
    }
   ],
   "source": [
    "jugar()"
   ]
  },
  {
   "cell_type": "code",
   "execution_count": null,
   "metadata": {},
   "outputs": [],
   "source": []
  },
  {
   "cell_type": "code",
   "execution_count": null,
   "metadata": {},
   "outputs": [],
   "source": []
  }
 ],
 "metadata": {
  "kernelspec": {
   "display_name": "base",
   "language": "python",
   "name": "python3"
  },
  "language_info": {
   "codemirror_mode": {
    "name": "ipython",
    "version": 3
   },
   "file_extension": ".py",
   "mimetype": "text/x-python",
   "name": "python",
   "nbconvert_exporter": "python",
   "pygments_lexer": "ipython3",
   "version": "3.12.4"
  }
 },
 "nbformat": 4,
 "nbformat_minor": 2
}
