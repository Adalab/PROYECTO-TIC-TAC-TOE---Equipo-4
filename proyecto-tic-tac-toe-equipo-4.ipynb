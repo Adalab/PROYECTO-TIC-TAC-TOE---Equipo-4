{
 "cells": [
  {
   "cell_type": "markdown",
   "metadata": {},
   "source": [
    "PROYECTO TIC TAC TOE"
   ]
  },
  {
   "cell_type": "code",
   "execution_count": 278,
   "metadata": {},
   "outputs": [],
   "source": [
    "# Describir las instrucciones:"
   ]
  },
  {
   "cell_type": "code",
   "execution_count": 279,
   "metadata": {},
   "outputs": [
    {
     "name": "stdout",
     "output_type": "stream",
     "text": [
      "Objetivo del juego:\n",
      "El objetivo del juego es ser el primero en conseguir una línea de tres símbolos (X u O) en un tablero de 3x3.\n",
      "La línea puede ser horizontal, vertical o diagonal.\n",
      "Cómo jugar:\n",
      "El juego admite dos jugadores (uno usa el símbolo \"X\", y el otro \"O\".\n",
      "El tablero es una cuadrícula de 3x3 con 9 posiciones, donde cada jugador colocará su símbolo (X u O) en su turno.\n",
      "Uno de los jugadores comienza primero (puede decidirse al azar o por acuerdo).\n",
      "El jugador elige una casilla numerada del tablero para colocar su símbolo.\n",
      "Los jugadores deben alternarse por turnos para colocar su símbolo en el tablero.\n",
      "Solo se puede colocar un símbolo en una casilla vacía.\n",
      "El primer jugador que consiga colocar tres de sus símbolos gana el juego.\n"
     ]
    }
   ],
   "source": [
    "print('Objetivo del juego:')\n",
    "print('El objetivo del juego es ser el primero en conseguir una línea de tres símbolos (X u O) en un tablero de 3x3.')\n",
    "print('La línea puede ser horizontal, vertical o diagonal.')\n",
    "print('Cómo jugar:')\n",
    "print('El juego admite dos jugadores (uno usa el símbolo \"X\", y el otro \"O\".')\n",
    "print('El tablero es una cuadrícula de 3x3 con 9 posiciones, donde cada jugador colocará su símbolo (X u O) en su turno.')\n",
    "print('Uno de los jugadores comienza primero (puede decidirse al azar o por acuerdo).')\n",
    "print('El jugador elige una casilla numerada del tablero para colocar su símbolo.')\n",
    "print('Los jugadores deben alternarse por turnos para colocar su símbolo en el tablero.')\n",
    "print('Solo se puede colocar un símbolo en una casilla vacía.')\n",
    "print('El primer jugador que consiga colocar tres de sus símbolos gana el juego.')"
   ]
  },
  {
   "cell_type": "code",
   "execution_count": 280,
   "metadata": {},
   "outputs": [
    {
     "data": {
      "text/plain": [
       "'# Jugadores:\\ndef entrada_jugadores():\\n    jugador_1 = input(\\'Selecciona entre \"X\" y \"O\"\\').upper()\\n    while jugador_1 != (\\'X\\' or\\'O\\'):\\n        print(\\'Símbolo érroneo. Elige extre \"X\" y \"O\", por favor\\')\\n        break\\n    jugador_2 = \\'O\\' if jugador_1 == \\'X\\' else \\'X\\'\\n    return jugador_1, jugador_2'"
      ]
     },
     "execution_count": 280,
     "metadata": {},
     "output_type": "execute_result"
    }
   ],
   "source": [
    "'''# Jugadores:\n",
    "def entrada_jugadores():\n",
    "    jugador_1 = input('Selecciona entre \"X\" y \"O\"').upper()\n",
    "    while jugador_1 != ('X' or'O'):\n",
    "        print('Símbolo érroneo. Elige extre \"X\" y \"O\", por favor')\n",
    "        break\n",
    "    jugador_2 = 'O' if jugador_1 == 'X' else 'X'\n",
    "    return jugador_1, jugador_2'''"
   ]
  },
  {
   "cell_type": "code",
   "execution_count": 281,
   "metadata": {},
   "outputs": [
    {
     "data": {
      "text/plain": [
       "'# Jugadores:\\njugador_1 = input(\\'Selecciona entre \"X\" y \"O\"\\').upper()\\nwhile jugador_1 != (\\'X\\' or\\'O\\'):\\n    print(\\'Símbolo érroneo. Elige extre \"X\" y \"O\", por favor\\')\\n    break\\njugador_2 = \\'O\\' if jugador_1 == \\'X\\' else \\'X\\'\\n'"
      ]
     },
     "execution_count": 281,
     "metadata": {},
     "output_type": "execute_result"
    }
   ],
   "source": [
    "'''# Jugadores:\n",
    "jugador_1 = input('Selecciona entre \"X\" y \"O\"').upper()\n",
    "while jugador_1 != ('X' or'O'):\n",
    "    print('Símbolo érroneo. Elige extre \"X\" y \"O\", por favor')\n",
    "    break\n",
    "jugador_2 = 'O' if jugador_1 == 'X' else 'X'\n",
    "'''"
   ]
  },
  {
   "cell_type": "markdown",
   "metadata": {},
   "source": [
    "# Creación del tablero:\n",
    "tablero_3x3 = []\n",
    "for i in range(3):\n",
    "    fila = []\n",
    "    for j in range(3):\n",
    "        fila.append(' ')\n",
    "    tablero_3x3.append(fila)"
   ]
  },
  {
   "cell_type": "markdown",
   "metadata": {},
   "source": [
    "# Dibujar tablero:\n",
    "def crear_tablero():\n",
    "    for fila in tablero_3x3:\n",
    "        print('______')\n",
    "        for elemento in fila:\n",
    "            print(elemento, end='|')\n",
    "        print()\n",
    "    return"
   ]
  },
  {
   "cell_type": "markdown",
   "metadata": {},
   "source": [
    "crear_tablero()"
   ]
  },
  {
   "cell_type": "code",
   "execution_count": 282,
   "metadata": {},
   "outputs": [
    {
     "data": {
      "text/plain": [
       "'[0,0][0,1][0,2]\\n   [1,0][1,1][1,2]\\n   [2,0][2,1][2,2]\\n\\nFilas: (0, 1, 2), (3, 4, 5), (6, 7, 8)\\nColumnas: (0, 3, 6), (1, 4, 7), (2, 5, 8)\\nDiagonal: (0, 4, 8), (2, 4, 6)'"
      ]
     },
     "execution_count": 282,
     "metadata": {},
     "output_type": "execute_result"
    }
   ],
   "source": [
    "'''[0,0][0,1][0,2]\n",
    "   [1,0][1,1][1,2]\n",
    "   [2,0][2,1][2,2]\n",
    "\n",
    "Filas: (0, 1, 2), (3, 4, 5), (6, 7, 8)\n",
    "Columnas: (0, 3, 6), (1, 4, 7), (2, 5, 8)\n",
    "Diagonal: (0, 4, 8), (2, 4, 6)'''"
   ]
  },
  {
   "cell_type": "code",
   "execution_count": 283,
   "metadata": {},
   "outputs": [],
   "source": [
    "jugador_1 = 'X'\n",
    "jugador_2 = 'O'"
   ]
  },
  {
   "cell_type": "code",
   "execution_count": 284,
   "metadata": {},
   "outputs": [],
   "source": [
    "# Crear un tablero de 3x3 vacío\n",
    "tablero = [' ' for _ in range(9)]\n",
    "def mostrar_tablero(tablero):\n",
    "    print(tablero[0] + ' | ' + tablero[1] + ' | ' + tablero[2])\n",
    "    print('--+---+--')\n",
    "    print(tablero[3] + ' | ' + tablero[4] + ' | ' + tablero[5])\n",
    "    print('--+---+--')\n",
    "    print(tablero[6] + ' | ' + tablero[7] + ' | ' + tablero[8])\n"
   ]
  },
  {
   "cell_type": "code",
   "execution_count": 285,
   "metadata": {},
   "outputs": [
    {
     "name": "stdout",
     "output_type": "stream",
     "text": [
      "  |   |  \n",
      "--+---+--\n",
      "  |   |  \n",
      "--+---+--\n",
      "  |   |  \n"
     ]
    }
   ],
   "source": [
    "mostrar_tablero(tablero)"
   ]
  },
  {
   "cell_type": "code",
   "execution_count": 286,
   "metadata": {},
   "outputs": [
    {
     "data": {
      "text/plain": [
       "\"# Crear la función jugar:\\ndef jugar():\\n    # mostramos el tablero:\\n    tablero = crear_tablero()\\n    # primer turno:\\n    fila = int(input('Indica la fila'))\\n    columna = int(input('Indica la columna'))\\n    tablero_3x3.append([fila],[columna])\\n\\n\\n\\n    return tablero\""
      ]
     },
     "execution_count": 286,
     "metadata": {},
     "output_type": "execute_result"
    }
   ],
   "source": [
    "'''# Crear la función jugar:\n",
    "def jugar():\n",
    "    # mostramos el tablero:\n",
    "    tablero = crear_tablero()\n",
    "    # primer turno:\n",
    "    fila = int(input('Indica la fila'))\n",
    "    columna = int(input('Indica la columna'))\n",
    "    tablero_3x3.append([fila],[columna])\n",
    "\n",
    "\n",
    "\n",
    "    return tablero'''"
   ]
  },
  {
   "cell_type": "code",
   "execution_count": 287,
   "metadata": {},
   "outputs": [
    {
     "data": {
      "text/plain": [
       "'Filas: (0, 1, 2), (3, 4, 5), (6, 7, 8)\\nColumnas: (0, 3, 6), (1, 4, 7), (2, 5, 8)\\nDiagonal: (0, 4, 8), (2, 4, 6)'"
      ]
     },
     "execution_count": 287,
     "metadata": {},
     "output_type": "execute_result"
    }
   ],
   "source": [
    "'''Filas: (0, 1, 2), (3, 4, 5), (6, 7, 8)\n",
    "Columnas: (0, 3, 6), (1, 4, 7), (2, 5, 8)\n",
    "Diagonal: (0, 4, 8), (2, 4, 6)'''"
   ]
  },
  {
   "cell_type": "code",
   "execution_count": 288,
   "metadata": {},
   "outputs": [
    {
     "data": {
      "text/plain": [
       "\"# Crear función para comprobar ganador:\\ndef comprobar_jugada(turno, tablero):\\n   \\n    if (tablero[turno]!=' '):\\n\\n        pass\\n        if [(tablero[0]==tablero[1]==tablero[2]=='X') or \\n            (tablero[3]==tablero[4]==tablero[5]) or\\n            (tablero[6]==tablero[7]==tablero[8]) or\\n            (tablero[0]==tablero[3]==tablero[6]) or\\n            (tablero[1]==tablero[4]==tablero[7]) or\\n            (tablero[2]==tablero[5]==tablero[8]) or\\n            (tablero[0]==tablero[4]==tablero[8]) or\\n            (tablero[2]==tablero[4]==tablero[6])]:\\n            print('¡HAS GANADO!')\""
      ]
     },
     "execution_count": 288,
     "metadata": {},
     "output_type": "execute_result"
    }
   ],
   "source": [
    "'''# Crear función para comprobar ganador:\n",
    "def comprobar_jugada(turno, tablero):\n",
    "   \n",
    "    if (tablero[turno]!=' '):\n",
    "\n",
    "        pass\n",
    "        if [(tablero[0]==tablero[1]==tablero[2]=='X') or \n",
    "            (tablero[3]==tablero[4]==tablero[5]) or\n",
    "            (tablero[6]==tablero[7]==tablero[8]) or\n",
    "            (tablero[0]==tablero[3]==tablero[6]) or\n",
    "            (tablero[1]==tablero[4]==tablero[7]) or\n",
    "            (tablero[2]==tablero[5]==tablero[8]) or\n",
    "            (tablero[0]==tablero[4]==tablero[8]) or\n",
    "            (tablero[2]==tablero[4]==tablero[6])]:\n",
    "            print('¡HAS GANADO!')'''\n",
    "    "
   ]
  },
  {
   "cell_type": "code",
   "execution_count": 289,
   "metadata": {},
   "outputs": [],
   "source": [
    "def comprobar_jugada():\n",
    "    if (tablero[0]==tablero[1]==tablero[2]=='X') or (tablero[0]==tablero[1]==tablero[2]=='O'):\n",
    "        print('¡HAS GANADO!')\n",
    "    if (tablero[3]==tablero[4]==tablero[5]=='X') or (tablero[3]==tablero[4]==tablero[5]=='O'):\n",
    "        print('¡HAS GANADO!')\n",
    "    if (tablero[6]==tablero[7]==tablero[8]=='X') or (tablero[6]==tablero[7]==tablero[8]=='O'):\n",
    "        print('¡HAS GANADO!')\n",
    "    if (tablero[0]==tablero[3]==tablero[6]=='X') or (tablero[0]==tablero[3]==tablero[6]=='O'):\n",
    "        print('¡HAS GANADO!')\n",
    "    if (tablero[1]==tablero[4]==tablero[7]=='X') or (tablero[1]==tablero[4]==tablero[7]=='O'):\n",
    "        print('¡HAS GANADO!')\n",
    "    if (tablero[2]==tablero[5]==tablero[8]=='X') or (tablero[2]==tablero[5]==tablero[8]=='O'):\n",
    "        print('¡HAS GANADO!')\n",
    "    if (tablero[0]==tablero[4]==tablero[8]=='X') or (tablero[0]==tablero[4]==tablero[8]=='O'):\n",
    "        print('¡HAS GANADO!')\n",
    "    if (tablero[2]==tablero[4]==tablero[6]=='X') or (tablero[2]==tablero[4]==tablero[6]=='O'):\n",
    "        print('¡HAS GANADO!')\n",
    "    else:\n",
    "        print('Continua el juego')\n",
    "    return "
   ]
  },
  {
   "cell_type": "code",
   "execution_count": 290,
   "metadata": {},
   "outputs": [
    {
     "data": {
      "text/plain": [
       "\"def probar():\\n    if [((tablero[0]==tablero[1]==tablero[2]=='X') or (tablero[0]==tablero[1]==tablero[2]=='O')) or\\n       ((tablero[3]==tablero[4]==tablero[5]=='X') or (tablero[3]==tablero[4]==tablero[5]=='O')) or\\n       ((tablero[6]==tablero[7]==tablero[8]=='X') or (tablero[6]==tablero[7]==tablero[8]=='O')) or\\n       ((tablero[0]==tablero[3]==tablero[6]=='X') or (tablero[0]==tablero[3]==tablero[6]=='O')) or\\n       ((tablero[1]==tablero[4]==tablero[7]=='X') or (tablero[1]==tablero[4]==tablero[7]=='O')) or\\n       ((tablero[2]==tablero[5]==tablero[8]=='X') or (tablero[2]==tablero[5]==tablero[8]=='O')) or\\n       ((tablero[0]==tablero[4]==tablero[8]=='X') or (tablero[0]==tablero[4]==tablero[8]=='O')) or\\n       ((tablero[2]==tablero[4]==tablero[6]=='X') or (tablero[2]==tablero[4]==tablero[6]=='O'))]:\\n        print('¡HAS GANADO!')\""
      ]
     },
     "execution_count": 290,
     "metadata": {},
     "output_type": "execute_result"
    }
   ],
   "source": [
    "'''def probar():\n",
    "    if [((tablero[0]==tablero[1]==tablero[2]=='X') or (tablero[0]==tablero[1]==tablero[2]=='O')) or\n",
    "       ((tablero[3]==tablero[4]==tablero[5]=='X') or (tablero[3]==tablero[4]==tablero[5]=='O')) or\n",
    "       ((tablero[6]==tablero[7]==tablero[8]=='X') or (tablero[6]==tablero[7]==tablero[8]=='O')) or\n",
    "       ((tablero[0]==tablero[3]==tablero[6]=='X') or (tablero[0]==tablero[3]==tablero[6]=='O')) or\n",
    "       ((tablero[1]==tablero[4]==tablero[7]=='X') or (tablero[1]==tablero[4]==tablero[7]=='O')) or\n",
    "       ((tablero[2]==tablero[5]==tablero[8]=='X') or (tablero[2]==tablero[5]==tablero[8]=='O')) or\n",
    "       ((tablero[0]==tablero[4]==tablero[8]=='X') or (tablero[0]==tablero[4]==tablero[8]=='O')) or\n",
    "       ((tablero[2]==tablero[4]==tablero[6]=='X') or (tablero[2]==tablero[4]==tablero[6]=='O'))]:\n",
    "        print('¡HAS GANADO!')'''"
   ]
  },
  {
   "cell_type": "code",
   "execution_count": 291,
   "metadata": {},
   "outputs": [
    {
     "name": "stdout",
     "output_type": "stream",
     "text": [
      "  |   |  \n",
      "--+---+--\n",
      "  |   |  \n",
      "--+---+--\n",
      "  |   |  \n"
     ]
    }
   ],
   "source": [
    "#mostrar tablero:\n",
    "mostrar_tablero(tablero)\n",
    "\n",
    "# Crear función jugar:\n",
    "def jugar():\n",
    "    \n",
    "    # turno:\n",
    "    while True:\n",
    "        #turnos aleatorios:\n",
    "        \n",
    "        turno = int(input('Selecciona posición')) - 1\n",
    "        if tablero[turno] == ' ':\n",
    "            tablero[turno] = 'X'\n",
    "            mostrar_tablero(tablero)\n",
    "            comprobar_jugada()\n",
    "            if comprobar_jugada == False:\n",
    "                continue\n",
    "            \n",
    "            \n",
    "        else:\n",
    "            print('La posición seleccionada ya está ocupada')\n",
    "        # fin cuando alguien gane    "
   ]
  },
  {
   "cell_type": "code",
   "execution_count": 292,
   "metadata": {},
   "outputs": [
    {
     "name": "stdout",
     "output_type": "stream",
     "text": [
      "X |   |  \n",
      "--+---+--\n",
      "  |   |  \n",
      "--+---+--\n",
      "  |   |  \n",
      "Continua el juego\n",
      "X | X |  \n",
      "--+---+--\n",
      "  |   |  \n",
      "--+---+--\n",
      "  |   |  \n",
      "Continua el juego\n",
      "X | X | X\n",
      "--+---+--\n",
      "  |   |  \n",
      "--+---+--\n",
      "  |   |  \n",
      "¡HAS GANADO!\n",
      "Continua el juego\n"
     ]
    },
    {
     "ename": "ValueError",
     "evalue": "invalid literal for int() with base 10: ''",
     "output_type": "error",
     "traceback": [
      "\u001b[0;31m---------------------------------------------------------------------------\u001b[0m",
      "\u001b[0;31mValueError\u001b[0m                                Traceback (most recent call last)",
      "Cell \u001b[0;32mIn[292], line 1\u001b[0m\n\u001b[0;32m----> 1\u001b[0m jugar()\n",
      "Cell \u001b[0;32mIn[291], line 11\u001b[0m, in \u001b[0;36mjugar\u001b[0;34m()\u001b[0m\n\u001b[1;32m      5\u001b[0m \u001b[38;5;28;01mdef\u001b[39;00m \u001b[38;5;21mjugar\u001b[39m():\n\u001b[1;32m      6\u001b[0m     \n\u001b[1;32m      7\u001b[0m     \u001b[38;5;66;03m# turno:\u001b[39;00m\n\u001b[1;32m      8\u001b[0m     \u001b[38;5;28;01mwhile\u001b[39;00m \u001b[38;5;28;01mTrue\u001b[39;00m:\n\u001b[1;32m      9\u001b[0m         \u001b[38;5;66;03m#turnos aleatorios:\u001b[39;00m\n\u001b[0;32m---> 11\u001b[0m         turno \u001b[38;5;241m=\u001b[39m \u001b[38;5;28mint\u001b[39m(\u001b[38;5;28minput\u001b[39m(\u001b[38;5;124m'\u001b[39m\u001b[38;5;124mSelecciona posición\u001b[39m\u001b[38;5;124m'\u001b[39m)) \u001b[38;5;241m-\u001b[39m \u001b[38;5;241m1\u001b[39m\n\u001b[1;32m     12\u001b[0m         \u001b[38;5;28;01mif\u001b[39;00m tablero[turno] \u001b[38;5;241m==\u001b[39m \u001b[38;5;124m'\u001b[39m\u001b[38;5;124m \u001b[39m\u001b[38;5;124m'\u001b[39m:\n\u001b[1;32m     13\u001b[0m             tablero[turno] \u001b[38;5;241m=\u001b[39m \u001b[38;5;124m'\u001b[39m\u001b[38;5;124mX\u001b[39m\u001b[38;5;124m'\u001b[39m\n",
      "\u001b[0;31mValueError\u001b[0m: invalid literal for int() with base 10: ''"
     ]
    }
   ],
   "source": [
    "jugar()"
   ]
  }
 ],
 "metadata": {
  "kernelspec": {
   "display_name": "base",
   "language": "python",
   "name": "python3"
  },
  "language_info": {
   "codemirror_mode": {
    "name": "ipython",
    "version": 3
   },
   "file_extension": ".py",
   "mimetype": "text/x-python",
   "name": "python",
   "nbconvert_exporter": "python",
   "pygments_lexer": "ipython3",
   "version": "3.12.4"
  }
 },
 "nbformat": 4,
 "nbformat_minor": 2
}
